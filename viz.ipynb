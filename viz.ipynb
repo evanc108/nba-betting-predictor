{
 "cells": [
  {
   "cell_type": "code",
   "execution_count": 1,
   "metadata": {},
   "outputs": [],
   "source": [
    "import sqlite3\n",
    "import pandas as pd\n",
    "import matplotlib.pyplot as plt\n",
    "import seaborn as sns"
   ]
  },
  {
   "cell_type": "code",
   "execution_count": 2,
   "metadata": {},
   "outputs": [],
   "source": [
    "bet_db = 'basketball-final.sqlite'\n",
    "conn = sqlite3.connect(bet_db)"
   ]
  },
  {
   "cell_type": "code",
   "execution_count": 4,
   "metadata": {},
   "outputs": [
    {
     "name": "stdout",
     "output_type": "stream",
     "text": [
      "           id            full_name first_name     last_name  is_active\n",
      "0       76001       Alaa Abdelnaby       Alaa     Abdelnaby          0\n",
      "1       76002      Zaid Abdul-Aziz       Zaid    Abdul-Aziz          0\n",
      "2       76003  Kareem Abdul-Jabbar     Kareem  Abdul-Jabbar          0\n",
      "3          51   Mahmoud Abdul-Rauf    Mahmoud    Abdul-Rauf          0\n",
      "4        1505    Tariq Abdul-Wahad      Tariq   Abdul-Wahad          0\n",
      "...       ...                  ...        ...           ...        ...\n",
      "4718  1627790           Ante Zizic       Ante         Zizic          0\n",
      "4719    78647             Jim Zoet        Jim          Zoet          0\n",
      "4720    78648            Bill Zopf       Bill          Zopf          0\n",
      "4721  1627826          Ivica Zubac      Ivica         Zubac          1\n",
      "4722    78650           Matt Zunic       Matt         Zunic          0\n",
      "\n",
      "[4723 rows x 5 columns]\n"
     ]
    }
   ],
   "source": [
    "query = 'SELECT * FROM Player'\n",
    "players = pd.read_sql_query(query, conn)\n",
    "print(players)\n",
    "print(player.describe)\n"
   ]
  },
  {
   "cell_type": "code",
   "execution_count": null,
   "metadata": {},
   "outputs": [],
   "source": []
  },
  {
   "cell_type": "code",
   "execution_count": null,
   "metadata": {},
   "outputs": [],
   "source": []
  }
 ],
 "metadata": {
  "kernelspec": {
   "display_name": "Python 3",
   "language": "python",
   "name": "python3"
  },
  "language_info": {
   "codemirror_mode": {
    "name": "ipython",
    "version": 3
   },
   "file_extension": ".py",
   "mimetype": "text/x-python",
   "name": "python",
   "nbconvert_exporter": "python",
   "pygments_lexer": "ipython3",
   "version": "3.11.4"
  },
  "orig_nbformat": 4
 },
 "nbformat": 4,
 "nbformat_minor": 2
}
