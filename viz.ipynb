{
 "cells": [
  {
   "cell_type": "code",
   "execution_count": 56,
   "metadata": {},
   "outputs": [],
   "source": [
    "import sqlite3\n",
    "import pandas as pd\n",
    "import matplotlib.pyplot as plt\n",
    "import seaborn as sns"
   ]
  },
  {
   "cell_type": "code",
   "execution_count": 57,
   "metadata": {},
   "outputs": [],
   "source": [
    "bet_db = 'basketball-final.sqlite'\n",
    "conn = sqlite3.connect(bet_db)"
   ]
  },
  {
   "cell_type": "code",
   "execution_count": 58,
   "metadata": {},
   "outputs": [],
   "source": [
    "players = 'SELECT * FROM Player'\n",
    "players_df = pd.read_sql_query(players, conn)\n"
   ]
  },
  {
   "cell_type": "code",
   "execution_count": 59,
   "metadata": {},
   "outputs": [
    {
     "name": "stdout",
     "output_type": "stream",
     "text": [
      "      GAME_ID TEAM_ABBREVIATION_AWAY TEAM_ABBREVIATION_HOME WL_AWAY WL_HOME  \\\n",
      "0  0024600001                    NYK                    HUS       W       L   \n",
      "1  0024600004                    NYK                    CHS       L       W   \n",
      "2  0024600003                    PIT                    BOM       L       W   \n",
      "3  0024600002                    BOS                    PRO       L       W   \n",
      "4  0024600005                    WAS                    DEF       W       L   \n",
      "\n",
      "   FG_PCT_AWAY  FG_PCT_HOME  FT_PCT_AWAY  FT_PCT_HOME OREB_AWAY OREB_HOME  \\\n",
      "0          NaN          NaN        0.769        0.552      None      None   \n",
      "1          NaN          NaN          NaN          NaN      None      None   \n",
      "2        0.222        0.339          NaN          NaN      None      None   \n",
      "3          NaN          NaN          NaN          NaN      None      None   \n",
      "4          NaN          NaN          NaN          NaN      None      None   \n",
      "\n",
      "  AST_AWAY AST_HOME  PTS_AWAY  PTS_HOME  \n",
      "0     None     None        68        66  \n",
      "1     None     None        47        63  \n",
      "2     None     None        51        56  \n",
      "3     None     None        53        59  \n",
      "4     None     None        50        33  \n"
     ]
    }
   ],
   "source": [
    "offense = 'SELECT GAME_ID, TEAM_ABBREVIATION_AWAY, TEAM_ABBREVIATION_HOME, WL_AWAY, WL_HOME, FG_PCT_AWAY, FG_PCT_HOME, FT_PCT_AWAY, FT_PCT_HOME, OREB_AWAY, OREB_HOME, AST_AWAY, AST_HOME, PTS_AWAY, PTS_HOME FROM Game'\n",
    "offense_df = pd.read_sql_query(offense, conn)\n",
    "print(offense_df.head())"
   ]
  },
  {
   "cell_type": "code",
   "execution_count": 60,
   "metadata": {},
   "outputs": [
    {
     "name": "stdout",
     "output_type": "stream",
     "text": [
      "      GAME_ID                 Date HomeTeam AwayTeam  HomeSpread_AtOpen  \\\n",
      "0  0020700001  2007-10-30 00:00:00      SAS      POR              -12.5   \n",
      "1  0020700003  2007-10-30 00:00:00      GSW      UTA               -3.0   \n",
      "2  0020700002  2007-10-30 00:00:00      LAL      HOU                2.5   \n",
      "3  0020700004  2007-10-31 00:00:00      TOR      PHI               -6.5   \n",
      "4  0020700006  2007-10-31 00:00:00      IND      WAS               -1.5   \n",
      "\n",
      "   HomeSpread_AtClose  Over_AtOpen  Over_AtClose HomeML AwayML  2H_HomeSpread  \\\n",
      "0               -13.0        184.0         189.5  -1400    900           -5.0   \n",
      "1                -1.0        214.5         212.0   -120    100           -3.0   \n",
      "2                 5.0        191.0         199.0    190   -230            3.0   \n",
      "3                -6.5        190.0         191.0   -305    255           -2.0   \n",
      "4                 1.5        200.0         203.5    105   -125            1.0   \n",
      "\n",
      "   2H_Over  \n",
      "0     95.0  \n",
      "1    105.5  \n",
      "2     99.0  \n",
      "3     96.5  \n",
      "4    105.0  \n"
     ]
    }
   ],
   "source": [
    "bet_history = 'SELECT * FROM BettingOdds_History'\n",
    "bet_history_df = pd.read_sql_query(bet_history, conn)\n",
    "print(bet_history_df.head())"
   ]
  }
 ],
 "metadata": {
  "kernelspec": {
   "display_name": "Python 3",
   "language": "python",
   "name": "python3"
  },
  "language_info": {
   "codemirror_mode": {
    "name": "ipython",
    "version": 3
   },
   "file_extension": ".py",
   "mimetype": "text/x-python",
   "name": "python",
   "nbconvert_exporter": "python",
   "pygments_lexer": "ipython3",
   "version": "3.11.4"
  },
  "orig_nbformat": 4
 },
 "nbformat": 4,
 "nbformat_minor": 2
}
